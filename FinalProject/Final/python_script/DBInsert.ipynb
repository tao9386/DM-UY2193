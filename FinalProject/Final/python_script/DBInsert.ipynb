{
  "nbformat": 4,
  "nbformat_minor": 0,
  "metadata": {
    "colab": {
      "provenance": []
    },
    "kernelspec": {
      "name": "python3",
      "display_name": "Python 3"
    },
    "language_info": {
      "name": "python"
    }
  },
  "cells": [
    {
      "cell_type": "markdown",
      "source": [
        "### Install and import library"
      ],
      "metadata": {
        "id": "FicaTlVxfg6s"
      }
    },
    {
      "cell_type": "code",
      "source": [
        "pip install boto3"
      ],
      "metadata": {
        "colab": {
          "base_uri": "https://localhost:8080/"
        },
        "id": "CmK3gDtVfgML",
        "outputId": "54d25409-6a2a-476f-a17b-3550e9ed3619"
      },
      "execution_count": 1,
      "outputs": [
        {
          "output_type": "stream",
          "name": "stdout",
          "text": [
            "Collecting boto3\n",
            "  Downloading boto3-1.33.11-py3-none-any.whl (139 kB)\n",
            "\u001b[2K     \u001b[90m━━━━━━━━━━━━━━━━━━━━━━━━━━━━━━━━━━━━━━━━\u001b[0m \u001b[32m139.3/139.3 kB\u001b[0m \u001b[31m798.8 kB/s\u001b[0m eta \u001b[36m0:00:00\u001b[0m\n",
            "\u001b[?25hCollecting botocore<1.34.0,>=1.33.11 (from boto3)\n",
            "  Downloading botocore-1.33.11-py3-none-any.whl (11.8 MB)\n",
            "\u001b[2K     \u001b[90m━━━━━━━━━━━━━━━━━━━━━━━━━━━━━━━━━━━━━━━━\u001b[0m \u001b[32m11.8/11.8 MB\u001b[0m \u001b[31m88.1 MB/s\u001b[0m eta \u001b[36m0:00:00\u001b[0m\n",
            "\u001b[?25hCollecting jmespath<2.0.0,>=0.7.1 (from boto3)\n",
            "  Downloading jmespath-1.0.1-py3-none-any.whl (20 kB)\n",
            "Collecting s3transfer<0.9.0,>=0.8.2 (from boto3)\n",
            "  Downloading s3transfer-0.8.2-py3-none-any.whl (82 kB)\n",
            "\u001b[2K     \u001b[90m━━━━━━━━━━━━━━━━━━━━━━━━━━━━━━━━━━━━━━━━\u001b[0m \u001b[32m82.0/82.0 kB\u001b[0m \u001b[31m9.8 MB/s\u001b[0m eta \u001b[36m0:00:00\u001b[0m\n",
            "\u001b[?25hRequirement already satisfied: python-dateutil<3.0.0,>=2.1 in /usr/local/lib/python3.10/dist-packages (from botocore<1.34.0,>=1.33.11->boto3) (2.8.2)\n",
            "Requirement already satisfied: urllib3<2.1,>=1.25.4 in /usr/local/lib/python3.10/dist-packages (from botocore<1.34.0,>=1.33.11->boto3) (2.0.7)\n",
            "Requirement already satisfied: six>=1.5 in /usr/local/lib/python3.10/dist-packages (from python-dateutil<3.0.0,>=2.1->botocore<1.34.0,>=1.33.11->boto3) (1.16.0)\n",
            "Installing collected packages: jmespath, botocore, s3transfer, boto3\n",
            "Successfully installed boto3-1.33.11 botocore-1.33.11 jmespath-1.0.1 s3transfer-0.8.2\n"
          ]
        }
      ]
    },
    {
      "cell_type": "code",
      "source": [
        "import getpass\n",
        "import boto3\n",
        "from getpass import getpass"
      ],
      "metadata": {
        "id": "MIeFeEHGfiGi"
      },
      "execution_count": 2,
      "outputs": []
    },
    {
      "cell_type": "markdown",
      "source": [
        "### Use created IAM user to have access key to connect the AWS"
      ],
      "metadata": {
        "id": "eXc2_1fb8lPi"
      }
    },
    {
      "cell_type": "code",
      "source": [
        "# Create a IAM User ImageLinkLoader\n",
        "\n",
        "# Securely input the Account ID and Role Name\n",
        "aws_access_key_id = getpass(\"Enter your IAM Access Key ID: \")\n",
        "aws_secret_access_key = getpass(\"Enter your IAM Secret Access Key ID: \")\n",
        "\n",
        "# Create an S3 client with the IAM user's credentials\n",
        "s3_client = boto3.client(\n",
        "    's3',\n",
        "    aws_access_key_id=aws_access_key_id,\n",
        "    aws_secret_access_key=aws_secret_access_key\n",
        ")"
      ],
      "metadata": {
        "colab": {
          "base_uri": "https://localhost:8080/"
        },
        "id": "q8DZu6hbf5yu",
        "outputId": "514af4ff-dc27-40d7-d56b-fc1291b9f4ae"
      },
      "execution_count": 3,
      "outputs": [
        {
          "name": "stdout",
          "output_type": "stream",
          "text": [
            "Enter your IAM Access Key ID: ··········\n",
            "Enter your IAM Secret Access Key ID: ··········\n"
          ]
        }
      ]
    },
    {
      "cell_type": "code",
      "source": [
        "region_name = 'us-east-2'  # e.g., 'us-east-1'\n",
        "bucket_name = 'taotravelbucket'\n",
        "folder_path = 'orig/us/alaska/fairbanks/'  # e.g., 'images/' with /"
      ],
      "metadata": {
        "id": "rBPc6fGSsv84"
      },
      "execution_count": 28,
      "outputs": []
    },
    {
      "cell_type": "markdown",
      "source": [
        "### Load Images links and all other info into tuple"
      ],
      "metadata": {
        "id": "LVu6_jzR82t5"
      }
    },
    {
      "cell_type": "code",
      "source": [
        "def list_images(bucket, folder):\n",
        "    response = s3_client.list_objects_v2(Bucket=bucket, Prefix=folder)\n",
        "    image_details = []\n",
        "    total_objects = 0  # Counter for all objects in the folder\n",
        "    checked_objects = 0  # Counter for objects with valid extensions\n",
        "    image_type = ['jpg', 'jpeg', 'png', 'gif', 'bmp', 'tiff', 'webp', 'heic']\n",
        "\n",
        "    if 'Contents' in response:\n",
        "        for item in response['Contents']:\n",
        "            total_objects += 1\n",
        "            file_name = item['Key']\n",
        "            ext = file_name.split('.')[-1].lower()\n",
        "            if ext in image_type:\n",
        "                checked_objects += 1\n",
        "                # Split the file path to get the location details\n",
        "                path_parts = file_name.split('/')\n",
        "                # Ensure the path has enough parts to prevent index errors\n",
        "                if len(path_parts) >= 4:\n",
        "                    country = path_parts[1]\n",
        "                    province = path_parts[2]\n",
        "                    city = path_parts[3]\n",
        "                    sub_city = ''\n",
        "                    orig_name = path_parts[-1]\n",
        "                    if len(path_parts) > 5:\n",
        "                        sub_city = path_parts[4]  # Adjust as per your path structure\n",
        "\n",
        "                    # Construct the original image URL\n",
        "                    orig_image_url = f'https://{bucket}.s3.{region_name}.amazonaws.com/{file_name}'\n",
        "\n",
        "                    # Construct the modified image URL\n",
        "                    comp_file_name = file_name.replace('orig', 'comp', 1).rsplit('.', 1)[0] + '.jpeg'\n",
        "                    comp_image_url = f'https://{bucket}.s3.{region_name}.amazonaws.com/{comp_file_name}'\n",
        "\n",
        "                    # Append the details tuple to the list\n",
        "                    image_details.append((country, province, city, sub_city, orig_name, orig_image_url, comp_image_url))\n",
        "\n",
        "            else:\n",
        "              print('Error file: ', file_name)\n",
        "\n",
        "    print(f\"Total objects in folder: {total_objects}\")\n",
        "    print(f\"Objects with valid extensions: {checked_objects}\")\n",
        "\n",
        "    return image_details"
      ],
      "metadata": {
        "id": "I_oce17_fp4n"
      },
      "execution_count": 29,
      "outputs": []
    },
    {
      "cell_type": "markdown",
      "source": [
        "Anchorage, Palmer, Fairbanks"
      ],
      "metadata": {
        "id": "wNqUP26x7dzL"
      }
    },
    {
      "cell_type": "code",
      "source": [
        "# Retrieve and print the list of image details\n",
        "image_detail_pairs = list_images(bucket_name, folder_path)\n",
        "\n",
        "#for details in image_detail_pairs:\n",
        "#    print(details)\n",
        "print(image_detail_pairs[0])"
      ],
      "metadata": {
        "colab": {
          "base_uri": "https://localhost:8080/"
        },
        "id": "cOIgrcfKwtgd",
        "outputId": "16941fe6-8f15-4cf1-91c9-642d58b58984"
      },
      "execution_count": 30,
      "outputs": [
        {
          "output_type": "stream",
          "name": "stdout",
          "text": [
            "Error file:  orig/us/alaska/fairbanks/.DS_Store\n",
            "Total objects in folder: 362\n",
            "Objects with valid extensions: 361\n",
            "('us', 'alaska', 'fairbanks', '', 'DSC00001.JPG', 'https://taotravelbucket.s3.us-east-2.amazonaws.com/orig/us/alaska/fairbanks/DSC00001.JPG', 'https://taotravelbucket.s3.us-east-2.amazonaws.com/comp/us/alaska/fairbanks/DSC00001.jpeg')\n"
          ]
        }
      ]
    },
    {
      "cell_type": "markdown",
      "source": [
        "### Convert to SQL Query"
      ],
      "metadata": {
        "id": "uaIdM5Cf8_8W"
      }
    },
    {
      "cell_type": "code",
      "source": [
        "# Insert Query in SQL\n",
        "query = \"INSERT INTO travel_image (country, province, city, sub_city, orig_name, orig_link, comp_link) VALUES \\n\"\n",
        "\n",
        "# Formatting the values for SQL insertion\n",
        "values_list = []\n",
        "for details in image_detail_pairs:\n",
        "    country, province, city, sub_city, orig_name, orig_link, comp_link = [f\"'{detail}'\" for detail in details]\n",
        "    values_str = f\"({country}, {province}, {city}, {sub_city}, {orig_name}, {orig_link}, {comp_link})\"\n",
        "    values_list.append(values_str)\n",
        "\n",
        "# Join the values and complete the query\n",
        "query += \",\\n\".join(values_list) + \";\""
      ],
      "metadata": {
        "id": "mFv2V7XnxLUP"
      },
      "execution_count": 31,
      "outputs": []
    },
    {
      "cell_type": "code",
      "source": [
        "print(query[0:337])"
      ],
      "metadata": {
        "colab": {
          "base_uri": "https://localhost:8080/"
        },
        "id": "UV-wrrNGyT3a",
        "outputId": "f6af2bb7-4a39-4870-e11f-a6733cd239c1"
      },
      "execution_count": 37,
      "outputs": [
        {
          "output_type": "stream",
          "name": "stdout",
          "text": [
            "INSERT INTO travel_image (country, province, city, sub_city, orig_name, orig_link, comp_link) VALUES \n",
            "('us', 'alaska', 'fairbanks', '', 'DSC00001.JPG', 'https://taotravelbucket.s3.us-east-2.amazonaws.com/orig/us/alaska/fairbanks/DSC00001.JPG', 'https://taotravelbucket.s3.us-east-2.amazonaws.com/comp/us/alaska/fairbanks/DSC00001.jpeg'),\n"
          ]
        }
      ]
    }
  ]
}